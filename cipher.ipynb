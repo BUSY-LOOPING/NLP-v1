{
 "cells": [
  {
   "cell_type": "code",
   "execution_count": 1,
   "id": "a1efb814-a0d1-4ee8-9e7f-4b522bfb0f08",
   "metadata": {},
   "outputs": [],
   "source": [
    "import numpy as np\n",
    "import pandas as pd\n",
    "import os\n",
    "import string\n",
    "import requests\n",
    "import re\n",
    "import matplotlib.pyplot as plt"
   ]
  },
  {
   "cell_type": "markdown",
   "id": "aaa78178-6cf7-4141-8919-6f51bbd47abe",
   "metadata": {},
   "source": [
    "## Downloading the file"
   ]
  },
  {
   "cell_type": "code",
   "execution_count": 2,
   "id": "ee21aa4b-32bb-4abd-af69-25d2d2ad2811",
   "metadata": {},
   "outputs": [],
   "source": [
    "if not os.path.exists('data') :\n",
    "    os.makedirs('data')\n",
    "    if not os.path.exists('data', 'moby_dick.txt')  :\n",
    "        print(\"Downloading moby dick...\")\n",
    "        r = requests.get('https://www.gutenberg.org/files/2701/2701-0.txt')\n",
    "        with open(os.path.join('data', 'moby_dick.txt'), 'w', encoding='utf-8') as f:\n",
    "            f.write(r.text)"
   ]
  },
  {
   "cell_type": "markdown",
   "id": "fdf43859-6c94-4e1f-9d5d-0de134d3f4a9",
   "metadata": {},
   "source": [
    "## Tokenization"
   ]
  },
  {
   "cell_type": "code",
   "execution_count": 3,
   "id": "63849e8b-2b21-4e7f-a28d-2a6fb14eb548",
   "metadata": {},
   "outputs": [],
   "source": [
    "sequences = []\n",
    "word_counts = {}\n",
    "\n",
    "with open(os.path.join('data', 'moby_dick.txt'), encoding='utf-8') as f:\n",
    "    for line in f:\n",
    "        for word in line.split() :\n",
    "            word_tokenized = []\n",
    "            word = word.strip().lower()\n",
    "            if word.isalpha() and len(word) > 1:\n",
    "                for letter in word :\n",
    "                    if letter in word_counts :\n",
    "                        word_counts[letter] += 1\n",
    "                    else :\n",
    "                        word_counts[letter] = 1\n",
    "                    word_tokenized.append(ord(letter) - 97)\n",
    "                sequences.append(word_tokenized)"
   ]
  },
  {
   "cell_type": "code",
   "execution_count": 4,
   "id": "acd8d850-911b-4093-88f0-439e603031c3",
   "metadata": {},
   "outputs": [
    {
     "data": {
      "image/png": "[encoded data removed]",
      "text/plain": [
       "<Figure size 640x480 with 1 Axes>"
      ]
     },
     "metadata": {},
     "output_type": "display_data"
    }
   ],
   "source": [
    "plt.bar(word_counts.keys(), word_counts.values());"
   ]
  },
  {
   "cell_type": "code",
   "execution_count": 5,
   "id": "48717a13-86fe-4b0b-8a80-35c4d12a13ee",
   "metadata": {},
   "outputs": [
    {
     "data": {
      "text/plain": [
       "26"
      ]
     },
     "execution_count": 5,
     "metadata": {},
     "output_type": "execute_result"
    }
   ],
   "source": [
    "M = len(word_counts)\n",
    "M"
   ]
  },
  {
   "cell_type": "code",
   "execution_count": 6,
   "id": "6504f54c-5d07-4f1b-9b20-35957331ffc3",
   "metadata": {},
   "outputs": [
    {
     "data": {
      "text/plain": [
       "array([1.6798e+04, 8.7190e+03, 6.2180e+03, 4.0220e+03, 3.0300e+03,\n",
       "       6.7050e+03, 2.6360e+03, 1.0693e+04, 1.0869e+04, 5.1600e+02,\n",
       "       7.1300e+02, 4.3800e+03, 6.0100e+03, 3.7170e+03, 1.3084e+04,\n",
       "       4.4180e+03, 3.9600e+02, 2.9740e+03, 1.3102e+04, 3.2218e+04,\n",
       "       2.2930e+03, 1.1700e+03, 1.1706e+04, 2.0000e+00, 1.9580e+03,\n",
       "       2.0000e+01])"
      ]
     },
     "metadata": {},
     "output_type": "display_data"
    },
    {
     "data": {
      "text/plain": [
       "array([[4.0000e+00, 1.3560e+03, 1.6810e+03, 2.2520e+03, 5.0000e+00,\n",
       "        4.6600e+02, 9.9600e+02, 3.4200e+02, 2.2550e+03, 1.7000e+01,\n",
       "        8.2400e+02, 5.8860e+03, 1.3480e+03, 1.2564e+04, 1.3000e+01,\n",
       "        1.3150e+03, 1.0000e+00, 5.5770e+03, 5.6470e+03, 8.1890e+03,\n",
       "        4.1500e+02, 1.3940e+03, 5.2600e+02, 2.2000e+01, 1.2570e+03,\n",
       "        1.3100e+02],\n",
       "       [5.5100e+02, 2.1200e+02, 0.0000e+00, 7.0000e+00, 3.3980e+03,\n",
       "        0.0000e+00, 0.0000e+00, 4.0000e+00, 3.5800e+02, 5.2000e+01,\n",
       "        0.0000e+00, 1.4600e+03, 1.1000e+01, 1.0000e+00, 1.4840e+03,\n",
       "        0.0000e+00, 0.0000e+00, 6.1400e+02, 1.9900e+02, 9.2000e+01,\n",
       "        2.1690e+03, 9.0000e+00, 0.0000e+00, 0.0000e+00, 1.3070e+03,\n",
       "        0.0000e+00],\n",
       "       [2.3160e+03, 0.0000e+00, 2.9800e+02, 0.0000e+00, 2.4510e+03,\n",
       "        0.0000e+00, 0.0000e+00, 3.0760e+03, 9.0000e+02, 0.0000e+00,\n",
       "        1.1360e+03, 5.7200e+02, 0.0000e+00, 0.0000e+00, 2.7410e+03,\n",
       "        0.0000e+00, 1.0000e+01, 9.1500e+02, 2.1000e+01, 1.0410e+03,\n",
       "        6.8600e+02, 0.0000e+00, 0.0000e+00, 0.0000e+00, 1.0400e+02,\n",
       "        4.0000e+00],\n",
       "       [7.0700e+02, 2.0000e+00, 0.0000e+00, 3.0800e+02, 3.4340e+03,\n",
       "        4.6000e+01, 8.3000e+01, 8.0000e+00, 2.1260e+03, 3.0000e+00,\n",
       "        3.0000e+00, 3.8900e+02, 4.5000e+01, 7.5000e+01, 1.1490e+03,\n",
       "        4.0000e+00, 0.0000e+00, 6.0800e+02, 7.5800e+02, 1.3000e+01,\n",
       "        3.1500e+02, 6.4000e+01, 2.5000e+01, 0.0000e+00, 2.8100e+02,\n",
       "        0.0000e+00],\n",
       "       [4.2610e+03, 1.1100e+02, 1.5560e+03, 7.5570e+03, 3.4290e+03,\n",
       "        6.9400e+02, 5.7700e+02, 1.8600e+02, 1.2540e+03, 1.9000e+01,\n",
       "        7.4000e+01, 2.7740e+03, 1.6680e+03, 6.7740e+03, 1.6000e+02,\n",
       "        7.2400e+02, 3.1600e+02, 1.1068e+04, 5.5480e+03, 2.3730e+03,\n",
       "        4.3000e+01, 1.5490e+03, 6.2800e+02, 5.9800e+02, 9.9000e+02,\n",
       "        3.6000e+01]])"
      ]
     },
     "metadata": {},
     "output_type": "display_data"
    }
   ],
   "source": [
    "pi = np.zeros((M), dtype = np.float64)\n",
    "A = np.zeros((M, M), dtype = np.float64)\n",
    "\n",
    "for sequence in sequences :\n",
    "    pi[sequence[0]] += 1\n",
    "    for j in range(1, len(sequence)) :\n",
    "        A[sequence[j - 1], sequence[j]] += 1\n",
    "\n",
    "display(pi, A[:5, :])"
   ]
  },
  {
   "cell_type": "markdown",
   "id": "8ea3f4a3-2f81-4c73-886b-ee8e1b5a1f9a",
   "metadata": {},
   "source": [
    "## Add One Smoothing"
   ]
  },
  {
   "cell_type": "code",
   "execution_count": 7,
   "id": "f03a831d-85c9-4245-b399-288bacee3147",
   "metadata": {},
   "outputs": [
    {
     "data": {
      "text/plain": [
       "0.9999999999999999"
      ]
     },
     "metadata": {},
     "output_type": "display_data"
    },
    {
     "data": {
      "text/plain": [
       "array([1., 1., 1., 1., 1., 1., 1., 1., 1., 1., 1., 1., 1., 1., 1., 1., 1.,\n",
       "       1., 1., 1., 1., 1., 1., 1., 1., 1.])"
      ]
     },
     "metadata": {},
     "output_type": "display_data"
    }
   ],
   "source": [
    "smoothing_factor = 0.01\n",
    "pi = (pi + smoothing_factor) / (pi.sum() + M * smoothing_factor)\n",
    "A = (A + smoothing_factor)/ (A.sum(axis = 1, keepdims=True) + M * smoothing_factor)\n",
    "# for i in range(A.shape[0]):\n",
    "#     A[i] = (A[i] + 1) / (A[i].sum() + M)\n",
    "display(pi.sum(), A.sum(axis = 1))"
   ]
  },
  {
   "cell_type": "code",
   "execution_count": 8,
   "id": "f9c7fdd6-cca4-4614-bffa-1d31b76ba7c7",
   "metadata": {
    "tags": []
   },
   "outputs": [],
   "source": [
    "log_pi = np.log(pi)\n",
    "log_A = np.log(A)"
   ]
  },
  {
   "cell_type": "code",
   "execution_count": 9,
   "id": "a851938d-0762-40bb-bbee-710e0751944b",
   "metadata": {
    "tags": []
   },
   "outputs": [],
   "source": [
    "def reverse_map(map_) :\n",
    "    return {v: k for k, v in map_.items()}\n",
    "\n",
    "def encode(map_, sequence) :  #map_ is a dictionary from original sequence space to encoded one,sequence is list of strings\n",
    "    return [map_[i] for i in sequence]\n",
    "\n",
    "def decode(map_, sequence) :  #map_ is a dictionary from original sequence space to encoded one, sequence is list of strings\n",
    "    reverse = reverse_map(map_)\n",
    "    return [reverse[i] for i in sequence]\n",
    "\n",
    "def encode_message(message, cipher) :\n",
    "    encoded_message = ''\n",
    "    for i in message :\n",
    "        i = i.lower()\n",
    "        if i in cipher :\n",
    "            encoded_message += cipher[i]\n",
    "        elif i == ' ' or i == '\\n':\n",
    "            encoded_message += ' '\n",
    "    return encoded_message\n",
    "\n",
    "def decode_message(message, cipher) :\n",
    "    decoded_message = ''\n",
    "    rev_cipher = reverse_map(cipher)\n",
    "    for i in message :\n",
    "        if i in rev_cipher :\n",
    "            decoded_message += rev_cipher[i]\n",
    "        else :\n",
    "            decoded_message += ' ' \n",
    "    return decoded_message\n",
    "\n",
    "def model(decoded_message) :\n",
    "    log_likelihood = 0\n",
    "    \n",
    "    for sequence in decoded_message.split() :\n",
    "        if sequence.isalpha() :\n",
    "            first_state = ord(sequence[0]) - 97\n",
    "            log_likelihood += log_pi[first_state]\n",
    "            for j in range(1, len(sequence) - 1) :\n",
    "                second_state = ord(sequence[j]) - 97\n",
    "                third_state = ord(sequence[j+1]) - 97\n",
    "                log_likelihood += log_A[second_state, third_state]\n",
    "    return log_likelihood\n",
    "\n",
    "def get_random_cipher() :\n",
    "    random_sequence = np.random.permutation(list(string.ascii_lowercase))\n",
    "    cipher = dict(zip(list(string.ascii_lowercase), random_sequence))\n",
    "    return cipher\n",
    "\n",
    "def get_random_dna(n_sequences = None) :\n",
    "    if n_sequences is None or n_sequences == 1 :\n",
    "        return np.array(list(get_random_cipher().values()))\n",
    "    random_sequences = []\n",
    "    for _ in range(n_sequences) :\n",
    "        random_sequences.append(np.array(list(get_random_cipher().values())))\n",
    "    return np.array(random_sequences)\n",
    "\n",
    "def covert_sequence_2_map(sequence) :\n",
    "    return dict(zip(list(string.ascii_lowercase), sequence))\n",
    "\n",
    "def f(sequence, encoded_message) :\n",
    "    map_ = covert_sequence_2_map(sequence)\n",
    "    decoded_msg = decode_message(encoded_message, map_)\n",
    "    log_likelihood = model(decoded_msg)\n",
    "    return log_likelihood\n",
    "\n",
    "def evolve_offspring(dna_pool, n_children):\n",
    "    # make n_children per offspring\n",
    "    #print('Original : ', dna_pool.shape)\n",
    "    offspring = []\n",
    "\n",
    "    for dna in dna_pool:\n",
    "        for _ in range(n_children):\n",
    "            copy = dna.copy()\n",
    "            j = np.random.randint(len(copy))\n",
    "            k = np.random.randint(len(copy))\n",
    "\n",
    "            # switch\n",
    "            tmp = copy[j]\n",
    "            copy[j] = copy[k]\n",
    "            copy[k] = tmp\n",
    "            offspring.append(copy)\n",
    "    #print('Final : ', np.vstack((offspring, dna_pool)).shape)\n",
    "    return np.vstack((offspring, dna_pool))\n",
    "\n",
    "def translate_2_text(sequences) :\n",
    "    translated_seq =  []\n",
    "    for i in sequences :\n",
    "        translated_word = ''\n",
    "        for j in i :\n",
    "            translated_word += list(word_index.keys())[j]\n",
    "        translated_seq.append(translated_word)\n",
    "    return translated_seq"
   ]
  },
  {
   "cell_type": "code",
   "execution_count": 10,
   "id": "1a28195d-8e68-47af-a118-91872a9fc402",
   "metadata": {
    "tags": []
   },
   "outputs": [
    {
     "data": {
      "text/plain": [
       "{'a': 'm',\n",
       " 'b': 'n',\n",
       " 'c': 'f',\n",
       " 'd': 'p',\n",
       " 'e': 'a',\n",
       " 'f': 'z',\n",
       " 'g': 'c',\n",
       " 'h': 'd',\n",
       " 'i': 'k',\n",
       " 'j': 'h',\n",
       " 'k': 'w',\n",
       " 'l': 't',\n",
       " 'm': 'i',\n",
       " 'n': 'v',\n",
       " 'o': 'x',\n",
       " 'p': 'u',\n",
       " 'q': 'l',\n",
       " 'r': 's',\n",
       " 's': 'e',\n",
       " 't': 'r',\n",
       " 'u': 'q',\n",
       " 'v': 'b',\n",
       " 'w': 'j',\n",
       " 'x': 'g',\n",
       " 'y': 'y',\n",
       " 'z': 'o'}"
      ]
     },
     "execution_count": 10,
     "metadata": {},
     "output_type": "execute_result"
    }
   ],
   "source": [
    "cipher = get_random_cipher()\n",
    "cipher"
   ]
  },
  {
   "cell_type": "code",
   "execution_count": 11,
   "id": "0f7facdb-bf53-427d-8acd-f01ebfb6e216",
   "metadata": {},
   "outputs": [],
   "source": [
    "original_message = '''I then lounged down the street and found,\n",
    "as I expected, that there was a mews in a lane which runs down\n",
    "by one wall of the garden. I lent the ostlers a hand in rubbing\n",
    "down their horses, and received in exchange twopence, a glass of\n",
    "half-and-half, two fills of shag tobacco, and as much information\n",
    "as I could desire about Miss Adler, to say nothing of half a dozen\n",
    "other people in the neighbourhood in whom I was not in the least\n",
    "interested, but whose biographies I was compelled to listen to.\n",
    "'''"
   ]
  },
  {
   "cell_type": "code",
   "execution_count": 12,
   "id": "daf87178-9448-4f51-aae5-5ddf6bae82b3",
   "metadata": {},
   "outputs": [
    {
     "data": {
      "text/plain": [
       "'k rdav txqvcap pxjv rda ersaar mvp zxqvp me k aguafrap rdmr rdasa jme m iaje kv m tmva jdkfd sqve pxjv ny xva jmtt xz rda cmspav k tavr rda xertase m dmvp kv sqnnkvc pxjv rdaks dxseae mvp safakbap kv agfdmvca rjxuavfa m ctmee xz dmtzmvpdmtz rjx zktte xz edmc rxnmffx mvp me iqfd kvzxsimrkxv me k fxqtp paeksa mnxqr ikee mptas rx emy vxrdkvc xz dmtz m pxoav xrdas uaxuta kv rda vakcdnxqsdxxp kv jdxi k jme vxr kv rda tamer kvrasaerap nqr jdxea nkxcsmudkae k jme fxiuattap rx tkerav rx '"
      ]
     },
     "execution_count": 12,
     "metadata": {},
     "output_type": "execute_result"
    }
   ],
   "source": [
    "encoded_message = encode_message(original_message, cipher)\n",
    "encoded_message"
   ]
  },
  {
   "cell_type": "code",
   "execution_count": 19,
   "id": "9f9fe92f-adce-4a79-9506-6dd53e28b1c3",
   "metadata": {
    "tags": []
   },
   "outputs": [
    {
     "name": "stdout",
     "output_type": "stream",
     "text": [
      "Log likelihood of true encoding cypher : -776.4338408549215\n"
     ]
    }
   ],
   "source": [
    "print(f'Log likelihood of true encoding cypher : {f(list(cipher.values()), encoded_message)}')"
   ]
  },
  {
   "cell_type": "code",
   "execution_count": 52,
   "id": "48d77d09-dddb-401d-b1f1-f31070011181",
   "metadata": {},
   "outputs": [
    {
     "name": "stdout",
     "output_type": "stream",
     "text": [
      "Iter 100\n",
      "Mean score : -1035.0539261409083 | Best Score : -762.6375095859437\n",
      "Iter 200\n",
      "Mean score : -1040.6818626991565 | Best Score : -760.9367486508767\n",
      "Iter 300\n",
      "Mean score : -875.1218921575562 | Best Score : -760.9367486508767\n",
      "Iter 400\n",
      "Mean score : -1032.0346330197217 | Best Score : -760.9367486508767\n",
      "Iter 500\n",
      "Mean score : -1032.104692726038 | Best Score : -760.9367486508767\n",
      "Iter 600\n",
      "Mean score : -1031.8615278266345 | Best Score : -760.9367486508767\n",
      "Iter 700\n",
      "Mean score : -869.9217203299394 | Best Score : -760.9367486508767\n",
      "Iter 800\n",
      "Mean score : -836.2906007066179 | Best Score : -760.9367486508767\n",
      "Iter 900\n",
      "Mean score : -1045.3247288464554 | Best Score : -760.9367486508767\n"
     ]
    }
   ],
   "source": [
    "MAX_ITER = 1000\n",
    "log_likelihoods = []\n",
    "DNA_pool = get_random_dna(10)\n",
    "best_score = float('-inf')\n",
    "best_dna = None\n",
    "best_map = None\n",
    "EPSILON = 0.2\n",
    "\n",
    "for i in range(MAX_ITER) :    \n",
    "    if i > 0 :\n",
    "        DNA_pool = evolve_offspring(DNA_pool, 10)\n",
    "        if np.random.randn() < EPSILON :\n",
    "            DNA_pool = np.vstack((DNA_pool, get_random_dna(10)))\n",
    "        scores = [f(DNA, encoded_message) for DNA in DNA_pool]\n",
    "        #sort the DNA by score\n",
    "        sorted_indices = np.argsort(scores)[::-1]\n",
    "        #print(scores, sep='\\n')\n",
    "        sorted_DNA_pool = DNA_pool[sorted_indices]\n",
    "        sorted_scores = np.array(scores)[sorted_indices]\n",
    "        if best_score < sorted_scores[0] :\n",
    "            best_score = sorted_scores[0]\n",
    "            best_dna = sorted_DNA_pool[0]\n",
    "            best_map = covert_sequence_2_map(best_dna)\n",
    "         \n",
    "        log_likelihoods.append(np.mean(sorted_scores))\n",
    "        DNA_pool = sorted_DNA_pool[:5]\n",
    "        \n",
    "        if i % 100 == 0 :\n",
    "            print(f'Iter {i}')\n",
    "            print(f'Mean score : {np.mean(sorted_scores)} | Best Score : {best_score}')\n"
   ]
  },
  {
   "cell_type": "code",
   "execution_count": 53,
   "id": "6d4d8848-5ecd-4594-b55d-6feec56f3b68",
   "metadata": {},
   "outputs": [
    {
     "data": {
      "text/plain": [
       "[<matplotlib.lines.Line2D at 0x214fe248e20>]"
      ]
     },
     "execution_count": 53,
     "metadata": {},
     "output_type": "execute_result"
    },
    {
     "data": {
      "image/png": "[encoded data removed]",
      "text/plain": [
       "<Figure size 640x480 with 1 Axes>"
      ]
     },
     "metadata": {},
     "output_type": "display_data"
    }
   ],
   "source": [
    "plt.plot(log_likelihoods)"
   ]
  },
  {
   "cell_type": "code",
   "execution_count": 54,
   "id": "ac51b021-086c-40c8-b64a-c2fb8cf7f564",
   "metadata": {},
   "outputs": [
    {
     "data": {
      "text/plain": [
       "'I then lounged down the street and found,\\nas I expected, that there was a mews in a lane which runs down\\nby one wall of the garden. I lent the ostlers a hand in rubbing\\ndown their horses, and received in exchange twopence, a glass of\\nhalf-and-half, two fills of shag tobacco, and as much information\\nas I could desire about Miss Adler, to say nothing of half a dozen\\nother people in the neighbourhood in whom I was not in the least\\ninterested, but whose biographies I was compelled to listen to.\\n'"
      ]
     },
     "execution_count": 54,
     "metadata": {},
     "output_type": "execute_result"
    }
   ],
   "source": [
    "original_message"
   ]
  },
  {
   "cell_type": "code",
   "execution_count": 55,
   "id": "e2e1f399-25fa-4013-88d1-f93a19ebfda5",
   "metadata": {},
   "outputs": [
    {
     "data": {
      "text/plain": [
       "'k rdav txqvcap pxjv rda ersaar mvp zxqvp me k aguafrap rdmr rdasa jme m iaje kv m tmva jdkfd sqve pxjv ny xva jmtt xz rda cmspav k tavr rda xertase m dmvp kv sqnnkvc pxjv rdaks dxseae mvp safakbap kv agfdmvca rjxuavfa m ctmee xz dmtzmvpdmtz rjx zktte xz edmc rxnmffx mvp me iqfd kvzxsimrkxv me k fxqtp paeksa mnxqr ikee mptas rx emy vxrdkvc xz dmtz m pxoav xrdas uaxuta kv rda vakcdnxqsdxxp kv jdxi k jme vxr kv rda tamer kvrasaerap nqr jdxea nkxcsmudkae k jme fxiuattap rx tkerav rx '"
      ]
     },
     "execution_count": 55,
     "metadata": {},
     "output_type": "execute_result"
    }
   ],
   "source": [
    "encoded_message"
   ]
  },
  {
   "cell_type": "code",
   "execution_count": 56,
   "id": "ba254e82-fc51-426c-b784-c7a1fe5f6f79",
   "metadata": {},
   "outputs": [
    {
     "data": {
      "text/plain": [
       "'i then lounged down the street and yound as i expected that there was a mews in a lane which runs down fb one wall oy the garden i lent the ostlers a hand in ruffing down their horses and received in exchange twopence a glass oy halyandhaly two yills oy shag tofacco and as much inyormation as i could desire afout miss adler to sab nothing oy haly a doken other people in the neighfourhood in whom i was not in the least interested fut whose fiographies i was compelled to listen to '"
      ]
     },
     "execution_count": 56,
     "metadata": {},
     "output_type": "execute_result"
    }
   ],
   "source": [
    "decode_message(encoded_message, best_map)"
   ]
  },
  {
   "cell_type": "code",
   "execution_count": 57,
   "id": "758ea507-ac9e-4601-b420-251d2cbddc8e",
   "metadata": {},
   "outputs": [
    {
     "name": "stdout",
     "output_type": "stream",
     "text": [
      "Decryption Accuracy : 0.8076923076923077\n"
     ]
    }
   ],
   "source": [
    "print(f'Decryption Accuracy : {(np.array(list(cipher.values())) == np.array(list(best_map.values()))).mean()}')"
   ]
  },
  {
   "cell_type": "code",
   "execution_count": 58,
   "id": "c9288806-fbf6-4202-826b-058b48162096",
   "metadata": {},
   "outputs": [
    {
     "name": "stdout",
     "output_type": "stream",
     "text": [
      "Wrongly decrypted : \n",
      "True map : (b : n) | Wrong map : (b : y)\n",
      "True map : (f : z) | Wrong map : (f : n)\n",
      "True map : (k : w) | Wrong map : (k : o)\n",
      "True map : (y : y) | Wrong map : (y : z)\n",
      "True map : (z : o) | Wrong map : (z : w)\n"
     ]
    }
   ],
   "source": [
    "print('Wrongly decrypted : ')\n",
    "for k, v in cipher.items() :\n",
    "    if best_map[k] != v :\n",
    "        print(f'True map : ({k} : {v}) | Wrong map : ({k} : {best_map[k]})')"
   ]
  },
  {
   "cell_type": "code",
   "execution_count": null,
   "id": "e2331fb3-7a46-4147-a0a2-6277f2fadfae",
   "metadata": {},
   "outputs": [],
   "source": []
  },
  {
   "cell_type": "code",
   "execution_count": null,
   "id": "c87c3eaa-8723-49d3-a05d-6fb607abb5d0",
   "metadata": {},
   "outputs": [],
   "source": []
  }
 ],
 "metadata": {
  "kernelspec": {
   "display_name": "data_science",
   "language": "python",
   "name": "data_science"
  },
  "language_info": {
   "codemirror_mode": {
    "name": "ipython",
    "version": 3
   },
   "file_extension": ".py",
   "mimetype": "text/x-python",
   "name": "python",
   "nbconvert_exporter": "python",
   "pygments_lexer": "ipython3",
   "version": "3.10.9"
  }
 },
 "nbformat": 4,
 "nbformat_minor": 5
}
