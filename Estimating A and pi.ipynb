{
 "cells": [
  {
   "cell_type": "code",
   "execution_count": 26,
   "id": "ea05c939-deca-43de-9c1d-827f46cca7cd",
   "metadata": {},
   "outputs": [],
   "source": [
    "import numpy as np\n",
    "import pandas as pd"
   ]
  },
  {
   "cell_type": "code",
   "execution_count": 2,
   "id": "ff408276-05c7-4240-a1e7-69ac44ba456f",
   "metadata": {},
   "outputs": [],
   "source": [
    "sentences = [\n",
    "    'I like Python',\n",
    "    'I ate Burger',\n",
    "    'I like coding'\n",
    "]"
   ]
  },
  {
   "cell_type": "code",
   "execution_count": 42,
   "id": "15e3d01f-493e-486e-a0c4-23ba7eaff966",
   "metadata": {},
   "outputs": [
    {
     "data": {
      "text/plain": [
       "{'I': 3, 'like': 2, 'Python': 1, 'ate': 1, 'Burger': 1, 'coding': 1}"
      ]
     },
     "execution_count": 42,
     "metadata": {},
     "output_type": "execute_result"
    }
   ],
   "source": [
    "states = {}\n",
    "no_sequences = len(sentences)\n",
    "\n",
    "for a in sentences:\n",
    "    for x in a.split():\n",
    "        states[x] = states.get(x, 0) + 1\n",
    "        \n",
    "M = len(states)\n",
    "states"
   ]
  },
  {
   "cell_type": "code",
   "execution_count": 62,
   "id": "db09f98f-8a09-4fdb-a8bb-34ba79ac0187",
   "metadata": {},
   "outputs": [],
   "source": [
    "def count_word_combination(sentences, word1, word2):\n",
    "    count = 0\n",
    "\n",
    "    for sentence in sentences:\n",
    "        words = sentence.split()\n",
    "        for i in range(len(words) - 1):\n",
    "            if words[i] == word1 and words[i + 1] == word2:\n",
    "                count += 1\n",
    "\n",
    "    return count"
   ]
  },
  {
   "cell_type": "markdown",
   "id": "0643dd33-ae09-4d29-80b0-decf595befd2",
   "metadata": {},
   "source": [
    "### Estimating A and pi"
   ]
  },
  {
   "cell_type": "code",
   "execution_count": 77,
   "id": "3c46f08a-410a-46e7-9171-8f64151189f4",
   "metadata": {},
   "outputs": [
    {
     "name": "stdout",
     "output_type": "stream",
     "text": [
      "Probabilty of sequences :  [0. 0. 0.] \n",
      "\n"
     ]
    },
    {
     "data": {
      "text/plain": [
       "I         1.000000\n",
       "like      0.666667\n",
       "Python    0.333333\n",
       "ate       0.333333\n",
       "Burger    0.333333\n",
       "coding    0.333333\n",
       "dtype: float64"
      ]
     },
     "metadata": {},
     "output_type": "display_data"
    },
    {
     "data": {
      "text/html": [
       "<div>\n",
       "<style scoped>\n",
       "    .dataframe tbody tr th:only-of-type {\n",
       "        vertical-align: middle;\n",
       "    }\n",
       "\n",
       "    .dataframe tbody tr th {\n",
       "        vertical-align: top;\n",
       "    }\n",
       "\n",
       "    .dataframe thead th {\n",
       "        text-align: right;\n",
       "    }\n",
       "</style>\n",
       "<table border=\"1\" class=\"dataframe\">\n",
       "  <thead>\n",
       "    <tr style=\"text-align: right;\">\n",
       "      <th></th>\n",
       "      <th>I</th>\n",
       "      <th>like</th>\n",
       "      <th>Python</th>\n",
       "      <th>ate</th>\n",
       "      <th>Burger</th>\n",
       "      <th>coding</th>\n",
       "    </tr>\n",
       "  </thead>\n",
       "  <tbody>\n",
       "    <tr>\n",
       "      <th>I</th>\n",
       "      <td>0</td>\n",
       "      <td>0.666667</td>\n",
       "      <td>0.0</td>\n",
       "      <td>0.333333</td>\n",
       "      <td>0</td>\n",
       "      <td>0.0</td>\n",
       "    </tr>\n",
       "    <tr>\n",
       "      <th>like</th>\n",
       "      <td>0</td>\n",
       "      <td>0.000000</td>\n",
       "      <td>0.5</td>\n",
       "      <td>0.000000</td>\n",
       "      <td>0</td>\n",
       "      <td>0.5</td>\n",
       "    </tr>\n",
       "    <tr>\n",
       "      <th>Python</th>\n",
       "      <td>0</td>\n",
       "      <td>0.000000</td>\n",
       "      <td>0.0</td>\n",
       "      <td>0.000000</td>\n",
       "      <td>0</td>\n",
       "      <td>0.0</td>\n",
       "    </tr>\n",
       "    <tr>\n",
       "      <th>ate</th>\n",
       "      <td>0</td>\n",
       "      <td>0.000000</td>\n",
       "      <td>0.0</td>\n",
       "      <td>0.000000</td>\n",
       "      <td>1</td>\n",
       "      <td>0.0</td>\n",
       "    </tr>\n",
       "    <tr>\n",
       "      <th>Burger</th>\n",
       "      <td>0</td>\n",
       "      <td>0.000000</td>\n",
       "      <td>0.0</td>\n",
       "      <td>0.000000</td>\n",
       "      <td>0</td>\n",
       "      <td>0.0</td>\n",
       "    </tr>\n",
       "    <tr>\n",
       "      <th>coding</th>\n",
       "      <td>0</td>\n",
       "      <td>0.000000</td>\n",
       "      <td>0.0</td>\n",
       "      <td>0.000000</td>\n",
       "      <td>0</td>\n",
       "      <td>0.0</td>\n",
       "    </tr>\n",
       "  </tbody>\n",
       "</table>\n",
       "</div>"
      ],
      "text/plain": [
       "        I      like  Python       ate  Burger  coding\n",
       "I       0  0.666667     0.0  0.333333       0     0.0\n",
       "like    0  0.000000     0.5  0.000000       0     0.5\n",
       "Python  0  0.000000     0.0  0.000000       0     0.0\n",
       "ate     0  0.000000     0.0  0.000000       1     0.0\n",
       "Burger  0  0.000000     0.0  0.000000       0     0.0\n",
       "coding  0  0.000000     0.0  0.000000       0     0.0"
      ]
     },
     "metadata": {},
     "output_type": "display_data"
    },
    {
     "data": {
      "text/plain": [
       "I         1.0\n",
       "like      1.0\n",
       "Python    0.0\n",
       "ate       1.0\n",
       "Burger    0.0\n",
       "coding    0.0\n",
       "dtype: float64"
      ]
     },
     "metadata": {},
     "output_type": "display_data"
    }
   ],
   "source": [
    "pi_estimate = pd.Series(0, index=states.keys())\n",
    "A_estimate = pd.DataFrame(0, columns=states.keys(), index = states.keys())\n",
    "\n",
    "for i in states :\n",
    "    pi_estimate.loc[i] = (states[i]) / (no_sequences)\n",
    "    for j in states :\n",
    "        A_estimate.loc[i, j] = (count_word_combination(sentences, i, j)) / (states[i])\n",
    "\n",
    "prob_sequences = np.zeros(no_sequences)\n",
    "for i in range(len(prob_sequences)) :\n",
    "    sequence = sentences[i]\n",
    "    words_sequence = sequence.split()\n",
    "    prob_sequences[i] = pi_estimate.loc[words_sequence[0]]\n",
    "    for j in range(1, len(words_sequence)-1) :\n",
    "        prob_sequences[i] *= A_estimate.loc[words_sequence[j + 1], words_sequence[j]]\n",
    "print('Probabilty of sequences : ', prob_sequences, '\\n')\n",
    "\n",
    "display(pi_estimate, A_estimate, A_estimate.sum(axis = 1))"
   ]
  },
  {
   "cell_type": "markdown",
   "id": "e523dd43-02a7-4738-9d65-c3833d52f8f3",
   "metadata": {},
   "source": [
    "### Add One Smooothing"
   ]
  },
  {
   "cell_type": "code",
   "execution_count": 78,
   "id": "cd64cd1e-4cac-4be9-b831-a3da877bad6e",
   "metadata": {},
   "outputs": [
    {
     "name": "stdout",
     "output_type": "stream",
     "text": [
      "Probabilty of sequences :  [0.06349206 0.06349206 0.06349206] \n",
      "\n"
     ]
    },
    {
     "data": {
      "text/plain": [
       "I         0.444444\n",
       "like      0.333333\n",
       "Python    0.222222\n",
       "ate       0.222222\n",
       "Burger    0.222222\n",
       "coding    0.222222\n",
       "dtype: float64"
      ]
     },
     "metadata": {},
     "output_type": "display_data"
    },
    {
     "data": {
      "text/html": [
       "<div>\n",
       "<style scoped>\n",
       "    .dataframe tbody tr th:only-of-type {\n",
       "        vertical-align: middle;\n",
       "    }\n",
       "\n",
       "    .dataframe tbody tr th {\n",
       "        vertical-align: top;\n",
       "    }\n",
       "\n",
       "    .dataframe thead th {\n",
       "        text-align: right;\n",
       "    }\n",
       "</style>\n",
       "<table border=\"1\" class=\"dataframe\">\n",
       "  <thead>\n",
       "    <tr style=\"text-align: right;\">\n",
       "      <th></th>\n",
       "      <th>I</th>\n",
       "      <th>like</th>\n",
       "      <th>Python</th>\n",
       "      <th>ate</th>\n",
       "      <th>Burger</th>\n",
       "      <th>coding</th>\n",
       "    </tr>\n",
       "  </thead>\n",
       "  <tbody>\n",
       "    <tr>\n",
       "      <th>I</th>\n",
       "      <td>0.111111</td>\n",
       "      <td>0.333333</td>\n",
       "      <td>0.111111</td>\n",
       "      <td>0.222222</td>\n",
       "      <td>0.111111</td>\n",
       "      <td>0.111111</td>\n",
       "    </tr>\n",
       "    <tr>\n",
       "      <th>like</th>\n",
       "      <td>0.125000</td>\n",
       "      <td>0.125000</td>\n",
       "      <td>0.250000</td>\n",
       "      <td>0.125000</td>\n",
       "      <td>0.125000</td>\n",
       "      <td>0.250000</td>\n",
       "    </tr>\n",
       "    <tr>\n",
       "      <th>Python</th>\n",
       "      <td>0.142857</td>\n",
       "      <td>0.142857</td>\n",
       "      <td>0.142857</td>\n",
       "      <td>0.142857</td>\n",
       "      <td>0.142857</td>\n",
       "      <td>0.142857</td>\n",
       "    </tr>\n",
       "    <tr>\n",
       "      <th>ate</th>\n",
       "      <td>0.142857</td>\n",
       "      <td>0.142857</td>\n",
       "      <td>0.142857</td>\n",
       "      <td>0.142857</td>\n",
       "      <td>0.285714</td>\n",
       "      <td>0.142857</td>\n",
       "    </tr>\n",
       "    <tr>\n",
       "      <th>Burger</th>\n",
       "      <td>0.142857</td>\n",
       "      <td>0.142857</td>\n",
       "      <td>0.142857</td>\n",
       "      <td>0.142857</td>\n",
       "      <td>0.142857</td>\n",
       "      <td>0.142857</td>\n",
       "    </tr>\n",
       "    <tr>\n",
       "      <th>coding</th>\n",
       "      <td>0.142857</td>\n",
       "      <td>0.142857</td>\n",
       "      <td>0.142857</td>\n",
       "      <td>0.142857</td>\n",
       "      <td>0.142857</td>\n",
       "      <td>0.142857</td>\n",
       "    </tr>\n",
       "  </tbody>\n",
       "</table>\n",
       "</div>"
      ],
      "text/plain": [
       "               I      like    Python       ate    Burger    coding\n",
       "I       0.111111  0.333333  0.111111  0.222222  0.111111  0.111111\n",
       "like    0.125000  0.125000  0.250000  0.125000  0.125000  0.250000\n",
       "Python  0.142857  0.142857  0.142857  0.142857  0.142857  0.142857\n",
       "ate     0.142857  0.142857  0.142857  0.142857  0.285714  0.142857\n",
       "Burger  0.142857  0.142857  0.142857  0.142857  0.142857  0.142857\n",
       "coding  0.142857  0.142857  0.142857  0.142857  0.142857  0.142857"
      ]
     },
     "metadata": {},
     "output_type": "display_data"
    },
    {
     "data": {
      "text/plain": [
       "I         1.000000\n",
       "like      1.000000\n",
       "Python    0.857143\n",
       "ate       1.000000\n",
       "Burger    0.857143\n",
       "coding    0.857143\n",
       "dtype: float64"
      ]
     },
     "metadata": {},
     "output_type": "display_data"
    }
   ],
   "source": [
    "pi_estimate = pd.Series(0, index=states.keys())\n",
    "A_estimate = pd.DataFrame(0, columns=states.keys(), index = states.keys())\n",
    "\n",
    "for i in states :\n",
    "    pi_estimate.loc[i] = (states[i] + 1) / (no_sequences + M)\n",
    "    for j in states :\n",
    "        A_estimate.loc[i, j] = (count_word_combination(sentences, i, j) + 1) / (states[i] + M)\n",
    "\n",
    "prob_sequences = np.zeros(no_sequences)\n",
    "for i in range(len(prob_sequences)) :\n",
    "    sequence = sentences[i]\n",
    "    words_sequence = sequence.split()\n",
    "    prob_sequences[i] = pi_estimate.loc[words_sequence[0]]\n",
    "    for j in range(1, len(words_sequence)-1) :\n",
    "        prob_sequences[i] *= A_estimate.loc[words_sequence[j + 1], words_sequence[j]]\n",
    "print('Probabilty of sequences : ', prob_sequences, '\\n')\n",
    "\n",
    "display(pi_estimate, A_estimate, A_estimate.sum(axis = 1))"
   ]
  },
  {
   "cell_type": "markdown",
   "id": "579b551b-0f7c-4704-98c5-3cb2ad2609a7",
   "metadata": {},
   "source": [
    "### Epsilon Smoothing (E > 1)"
   ]
  },
  {
   "cell_type": "code",
   "execution_count": 79,
   "id": "ce4aa3bc-4280-4839-a2a1-365bb4cc7b66",
   "metadata": {},
   "outputs": [
    {
     "name": "stdout",
     "output_type": "stream",
     "text": [
      "Probabilty of sequences :  [0.05128205 0.05128205 0.05128205] \n",
      "\n"
     ]
    },
    {
     "data": {
      "text/plain": [
       "I         0.333333\n",
       "like      0.266667\n",
       "Python    0.200000\n",
       "ate       0.200000\n",
       "Burger    0.200000\n",
       "coding    0.200000\n",
       "dtype: float64"
      ]
     },
     "metadata": {},
     "output_type": "display_data"
    },
    {
     "data": {
      "text/html": [
       "<div>\n",
       "<style scoped>\n",
       "    .dataframe tbody tr th:only-of-type {\n",
       "        vertical-align: middle;\n",
       "    }\n",
       "\n",
       "    .dataframe tbody tr th {\n",
       "        vertical-align: top;\n",
       "    }\n",
       "\n",
       "    .dataframe thead th {\n",
       "        text-align: right;\n",
       "    }\n",
       "</style>\n",
       "<table border=\"1\" class=\"dataframe\">\n",
       "  <thead>\n",
       "    <tr style=\"text-align: right;\">\n",
       "      <th></th>\n",
       "      <th>I</th>\n",
       "      <th>like</th>\n",
       "      <th>Python</th>\n",
       "      <th>ate</th>\n",
       "      <th>Burger</th>\n",
       "      <th>coding</th>\n",
       "    </tr>\n",
       "  </thead>\n",
       "  <tbody>\n",
       "    <tr>\n",
       "      <th>I</th>\n",
       "      <td>0.133333</td>\n",
       "      <td>0.266667</td>\n",
       "      <td>0.133333</td>\n",
       "      <td>0.200000</td>\n",
       "      <td>0.133333</td>\n",
       "      <td>0.133333</td>\n",
       "    </tr>\n",
       "    <tr>\n",
       "      <th>like</th>\n",
       "      <td>0.142857</td>\n",
       "      <td>0.142857</td>\n",
       "      <td>0.214286</td>\n",
       "      <td>0.142857</td>\n",
       "      <td>0.142857</td>\n",
       "      <td>0.214286</td>\n",
       "    </tr>\n",
       "    <tr>\n",
       "      <th>Python</th>\n",
       "      <td>0.153846</td>\n",
       "      <td>0.153846</td>\n",
       "      <td>0.153846</td>\n",
       "      <td>0.153846</td>\n",
       "      <td>0.153846</td>\n",
       "      <td>0.153846</td>\n",
       "    </tr>\n",
       "    <tr>\n",
       "      <th>ate</th>\n",
       "      <td>0.153846</td>\n",
       "      <td>0.153846</td>\n",
       "      <td>0.153846</td>\n",
       "      <td>0.153846</td>\n",
       "      <td>0.230769</td>\n",
       "      <td>0.153846</td>\n",
       "    </tr>\n",
       "    <tr>\n",
       "      <th>Burger</th>\n",
       "      <td>0.153846</td>\n",
       "      <td>0.153846</td>\n",
       "      <td>0.153846</td>\n",
       "      <td>0.153846</td>\n",
       "      <td>0.153846</td>\n",
       "      <td>0.153846</td>\n",
       "    </tr>\n",
       "    <tr>\n",
       "      <th>coding</th>\n",
       "      <td>0.153846</td>\n",
       "      <td>0.153846</td>\n",
       "      <td>0.153846</td>\n",
       "      <td>0.153846</td>\n",
       "      <td>0.153846</td>\n",
       "      <td>0.153846</td>\n",
       "    </tr>\n",
       "  </tbody>\n",
       "</table>\n",
       "</div>"
      ],
      "text/plain": [
       "               I      like    Python       ate    Burger    coding\n",
       "I       0.133333  0.266667  0.133333  0.200000  0.133333  0.133333\n",
       "like    0.142857  0.142857  0.214286  0.142857  0.142857  0.214286\n",
       "Python  0.153846  0.153846  0.153846  0.153846  0.153846  0.153846\n",
       "ate     0.153846  0.153846  0.153846  0.153846  0.230769  0.153846\n",
       "Burger  0.153846  0.153846  0.153846  0.153846  0.153846  0.153846\n",
       "coding  0.153846  0.153846  0.153846  0.153846  0.153846  0.153846"
      ]
     },
     "metadata": {},
     "output_type": "display_data"
    },
    {
     "data": {
      "text/plain": [
       "I         1.000000\n",
       "like      1.000000\n",
       "Python    0.923077\n",
       "ate       1.000000\n",
       "Burger    0.923077\n",
       "coding    0.923077\n",
       "dtype: float64"
      ]
     },
     "metadata": {},
     "output_type": "display_data"
    }
   ],
   "source": [
    "pi_estimate = pd.Series(0, index=states.keys())\n",
    "A_estimate = pd.DataFrame(0, columns=states.keys(), index = states.keys())\n",
    "EPSILON = 2\n",
    "\n",
    "for i in states :\n",
    "    pi_estimate.loc[i] = (states[i] + EPSILON) / (no_sequences + EPSILON * M)\n",
    "    for j in states :\n",
    "        A_estimate.loc[i, j] = (count_word_combination(sentences, i, j) + EPSILON) / (states[i] + EPSILON * M)\n",
    "\n",
    "prob_sequences = np.zeros(no_sequences)\n",
    "for i in range(len(prob_sequences)) :\n",
    "    sequence = sentences[i]\n",
    "    words_sequence = sequence.split()\n",
    "    prob_sequences[i] = pi_estimate.loc[words_sequence[0]]\n",
    "    for j in range(1, len(words_sequence)-1) :\n",
    "        prob_sequences[i] *= A_estimate.loc[words_sequence[j + 1], words_sequence[j]]\n",
    "print('Probabilty of sequences : ', prob_sequences, '\\n')\n",
    "\n",
    "display(pi_estimate, A_estimate, A_estimate.sum(axis = 1))"
   ]
  },
  {
   "cell_type": "markdown",
   "id": "90c32e90-de92-49e3-91c4-e900ddd0a116",
   "metadata": {},
   "source": [
    "### Epsilon Smoothing (E < 1)"
   ]
  },
  {
   "cell_type": "code",
   "execution_count": 80,
   "id": "5db904fa-85ba-440c-a3bc-b710c7e1cbee",
   "metadata": {},
   "outputs": [
    {
     "name": "stdout",
     "output_type": "stream",
     "text": [
      "Probabilty of sequences :  [0.07291667 0.07291667 0.07291667] \n",
      "\n"
     ]
    },
    {
     "data": {
      "text/plain": [
       "I         0.583333\n",
       "like      0.416667\n",
       "Python    0.250000\n",
       "ate       0.250000\n",
       "Burger    0.250000\n",
       "coding    0.250000\n",
       "dtype: float64"
      ]
     },
     "metadata": {},
     "output_type": "display_data"
    },
    {
     "data": {
      "text/html": [
       "<div>\n",
       "<style scoped>\n",
       "    .dataframe tbody tr th:only-of-type {\n",
       "        vertical-align: middle;\n",
       "    }\n",
       "\n",
       "    .dataframe tbody tr th {\n",
       "        vertical-align: top;\n",
       "    }\n",
       "\n",
       "    .dataframe thead th {\n",
       "        text-align: right;\n",
       "    }\n",
       "</style>\n",
       "<table border=\"1\" class=\"dataframe\">\n",
       "  <thead>\n",
       "    <tr style=\"text-align: right;\">\n",
       "      <th></th>\n",
       "      <th>I</th>\n",
       "      <th>like</th>\n",
       "      <th>Python</th>\n",
       "      <th>ate</th>\n",
       "      <th>Burger</th>\n",
       "      <th>coding</th>\n",
       "    </tr>\n",
       "  </thead>\n",
       "  <tbody>\n",
       "    <tr>\n",
       "      <th>I</th>\n",
       "      <td>0.083333</td>\n",
       "      <td>0.416667</td>\n",
       "      <td>0.083333</td>\n",
       "      <td>0.250</td>\n",
       "      <td>0.083333</td>\n",
       "      <td>0.083333</td>\n",
       "    </tr>\n",
       "    <tr>\n",
       "      <th>like</th>\n",
       "      <td>0.100000</td>\n",
       "      <td>0.100000</td>\n",
       "      <td>0.300000</td>\n",
       "      <td>0.100</td>\n",
       "      <td>0.100000</td>\n",
       "      <td>0.300000</td>\n",
       "    </tr>\n",
       "    <tr>\n",
       "      <th>Python</th>\n",
       "      <td>0.125000</td>\n",
       "      <td>0.125000</td>\n",
       "      <td>0.125000</td>\n",
       "      <td>0.125</td>\n",
       "      <td>0.125000</td>\n",
       "      <td>0.125000</td>\n",
       "    </tr>\n",
       "    <tr>\n",
       "      <th>ate</th>\n",
       "      <td>0.125000</td>\n",
       "      <td>0.125000</td>\n",
       "      <td>0.125000</td>\n",
       "      <td>0.125</td>\n",
       "      <td>0.375000</td>\n",
       "      <td>0.125000</td>\n",
       "    </tr>\n",
       "    <tr>\n",
       "      <th>Burger</th>\n",
       "      <td>0.125000</td>\n",
       "      <td>0.125000</td>\n",
       "      <td>0.125000</td>\n",
       "      <td>0.125</td>\n",
       "      <td>0.125000</td>\n",
       "      <td>0.125000</td>\n",
       "    </tr>\n",
       "    <tr>\n",
       "      <th>coding</th>\n",
       "      <td>0.125000</td>\n",
       "      <td>0.125000</td>\n",
       "      <td>0.125000</td>\n",
       "      <td>0.125</td>\n",
       "      <td>0.125000</td>\n",
       "      <td>0.125000</td>\n",
       "    </tr>\n",
       "  </tbody>\n",
       "</table>\n",
       "</div>"
      ],
      "text/plain": [
       "               I      like    Python    ate    Burger    coding\n",
       "I       0.083333  0.416667  0.083333  0.250  0.083333  0.083333\n",
       "like    0.100000  0.100000  0.300000  0.100  0.100000  0.300000\n",
       "Python  0.125000  0.125000  0.125000  0.125  0.125000  0.125000\n",
       "ate     0.125000  0.125000  0.125000  0.125  0.375000  0.125000\n",
       "Burger  0.125000  0.125000  0.125000  0.125  0.125000  0.125000\n",
       "coding  0.125000  0.125000  0.125000  0.125  0.125000  0.125000"
      ]
     },
     "metadata": {},
     "output_type": "display_data"
    },
    {
     "data": {
      "text/plain": [
       "I         1.00\n",
       "like      1.00\n",
       "Python    0.75\n",
       "ate       1.00\n",
       "Burger    0.75\n",
       "coding    0.75\n",
       "dtype: float64"
      ]
     },
     "metadata": {},
     "output_type": "display_data"
    }
   ],
   "source": [
    "pi_estimate = pd.Series(0, index=states.keys())\n",
    "A_estimate = pd.DataFrame(0, columns=states.keys(), index = states.keys())\n",
    "EPSILON = 0.5\n",
    "\n",
    "for i in states :\n",
    "    pi_estimate.loc[i] = (states[i] + EPSILON) / (no_sequences + EPSILON * M)\n",
    "    for j in states :\n",
    "        A_estimate.loc[i, j] = (count_word_combination(sentences, i, j) + EPSILON) / (states[i] + EPSILON * M)\n",
    "\n",
    "prob_sequences = np.zeros(no_sequences)\n",
    "for i in range(len(prob_sequences)) :\n",
    "    sequence = sentences[i]\n",
    "    words_sequence = sequence.split()\n",
    "    prob_sequences[i] = pi_estimate.loc[words_sequence[0]]\n",
    "    for j in range(1, len(words_sequence)-1) :\n",
    "        prob_sequences[i] *= A_estimate.loc[words_sequence[j + 1], words_sequence[j]]\n",
    "print('Probabilty of sequences : ', prob_sequences, '\\n')\n",
    "\n",
    "display(pi_estimate, A_estimate, A_estimate.sum(axis = 1))"
   ]
  },
  {
   "cell_type": "code",
   "execution_count": null,
   "id": "db98bbbe-c6ad-4756-9a5c-6663c9b380f1",
   "metadata": {},
   "outputs": [],
   "source": []
  }
 ],
 "metadata": {
  "kernelspec": {
   "display_name": "data_science",
   "language": "python",
   "name": "data_science"
  },
  "language_info": {
   "codemirror_mode": {
    "name": "ipython",
    "version": 3
   },
   "file_extension": ".py",
   "mimetype": "text/x-python",
   "name": "python",
   "nbconvert_exporter": "python",
   "pygments_lexer": "ipython3",
   "version": "3.10.9"
  }
 },
 "nbformat": 4,
 "nbformat_minor": 5
}
